{
 "cells": [
  {
   "cell_type": "code",
   "execution_count": 1,
   "id": "9eb1293f",
   "metadata": {},
   "outputs": [],
   "source": [
    "import pandas as pd"
   ]
  },
  {
   "cell_type": "code",
   "execution_count": 134,
   "id": "a698350a",
   "metadata": {},
   "outputs": [],
   "source": [
    "dataset= pd.read_csv(\"webinar.csv\")"
   ]
  },
  {
   "cell_type": "code",
   "execution_count": 135,
   "id": "e5fc4954",
   "metadata": {},
   "outputs": [
    {
     "data": {
      "text/html": [
       "<div>\n",
       "<style scoped>\n",
       "    .dataframe tbody tr th:only-of-type {\n",
       "        vertical-align: middle;\n",
       "    }\n",
       "\n",
       "    .dataframe tbody tr th {\n",
       "        vertical-align: top;\n",
       "    }\n",
       "\n",
       "    .dataframe thead th {\n",
       "        text-align: right;\n",
       "    }\n",
       "</style>\n",
       "<table border=\"1\" class=\"dataframe\">\n",
       "  <thead>\n",
       "    <tr style=\"text-align: right;\">\n",
       "      <th></th>\n",
       "      <th>name</th>\n",
       "      <th>emailid</th>\n",
       "      <th>mobile</th>\n",
       "    </tr>\n",
       "  </thead>\n",
       "  <tbody>\n",
       "    <tr>\n",
       "      <th>0</th>\n",
       "      <td>Aslam</td>\n",
       "      <td>aslamjoy@gmail.com</td>\n",
       "      <td>971525268063</td>\n",
       "    </tr>\n",
       "    <tr>\n",
       "      <th>1</th>\n",
       "      <td>Azlina</td>\n",
       "      <td>azlinagift@gmail.com</td>\n",
       "      <td>971525226745</td>\n",
       "    </tr>\n",
       "    <tr>\n",
       "      <th>2</th>\n",
       "      <td>Azlifa</td>\n",
       "      <td>azlifagift@gmail.com</td>\n",
       "      <td>97152999373</td>\n",
       "    </tr>\n",
       "  </tbody>\n",
       "</table>\n",
       "</div>"
      ],
      "text/plain": [
       "     name               emailid        mobile\n",
       "0   Aslam    aslamjoy@gmail.com  971525268063\n",
       "1  Azlina  azlinagift@gmail.com  971525226745\n",
       "2  Azlifa  azlifagift@gmail.com   97152999373"
      ]
     },
     "execution_count": 135,
     "metadata": {},
     "output_type": "execute_result"
    }
   ],
   "source": [
    "dataset"
   ]
  },
  {
   "cell_type": "code",
   "execution_count": 144,
   "id": "b4c9c111",
   "metadata": {},
   "outputs": [
    {
     "data": {
      "text/plain": [
       "971525226745"
      ]
     },
     "execution_count": 144,
     "metadata": {},
     "output_type": "execute_result"
    }
   ],
   "source": [
    "dataset.iloc[1][2]"
   ]
  },
  {
   "cell_type": "code",
   "execution_count": 145,
   "id": "29ff649a",
   "metadata": {},
   "outputs": [
    {
     "data": {
      "text/plain": [
       "3"
      ]
     },
     "execution_count": 145,
     "metadata": {},
     "output_type": "execute_result"
    }
   ],
   "source": [
    "len(dataset)"
   ]
  },
  {
   "cell_type": "code",
   "execution_count": 137,
   "id": "5d0d6246",
   "metadata": {},
   "outputs": [
    {
     "name": "stdout",
     "output_type": "stream",
     "text": [
      "Message sending to Aslam aslamjoy@gmail.com 971525268063\n",
      "Reminder from Hope AI Live Webinar\n",
      "Message sending to Azlina azlinagift@gmail.com 971525226745\n",
      "Reminder from Hope AI Live Webinar\n",
      "Message sending to Azlifa azlifagift@gmail.com 97152999373\n",
      "Reminder from Hope AI Live Webinar\n"
     ]
    }
   ],
   "source": [
    "for rownumber in range(0,len(dataset)):\n",
    "    name=dataset.iloc[rownumber][0]\n",
    "    emailid=dataset.iloc[rownumber][1]\n",
    "    mobile=dataset.iloc[rownumber][2]\n",
    "    #print(dataset.iloc[rownumber])\n",
    "    #print(rownumber,name,emailid,mobile)\n",
    "    message=\"Reminder from Hope AI Live Webinar\"\n",
    "    print(f\"Message sending to {name} {emailid} {mobile}\")\n",
    "    print(message)"
   ]
  },
  {
   "cell_type": "code",
   "execution_count": 54,
   "id": "0949ff0b",
   "metadata": {},
   "outputs": [
    {
     "name": "stdout",
     "output_type": "stream",
     "text": [
      "Message sending to group ID: 44\n",
      "Reminder from Hope AI Live Webinar\n"
     ]
    }
   ],
   "source": [
    "groupid=44\n",
    "print(f\"Message sending to group ID: {groupid}\")\n",
    "print(message)"
   ]
  },
  {
   "cell_type": "code",
   "execution_count": 138,
   "id": "bc17d21a",
   "metadata": {},
   "outputs": [],
   "source": [
    "def reminder7pm():\n",
    "    for rownumber in range(0,len(dataset)):\n",
    "        name=dataset.iloc[rownumber][0]\n",
    "        emailid=dataset.iloc[rownumber][1]\n",
    "        mobile=dataset.iloc[rownumber][2]\n",
    "        message=\"Reminder from Hope AI Live Webinar\"\n",
    "        print(f\"Message sending to {name} {emailid} {mobile}\")\n",
    "        print(message)"
   ]
  },
  {
   "cell_type": "code",
   "execution_count": 139,
   "id": "37a8f29f",
   "metadata": {},
   "outputs": [
    {
     "name": "stdout",
     "output_type": "stream",
     "text": [
      "Message sending to Aslam aslamjoy@gmail.com 971525268063\n",
      "Reminder from Hope AI Live Webinar\n",
      "Message sending to Azlina azlinagift@gmail.com 971525226745\n",
      "Reminder from Hope AI Live Webinar\n",
      "Message sending to Azlifa azlifagift@gmail.com 97152999373\n",
      "Reminder from Hope AI Live Webinar\n"
     ]
    }
   ],
   "source": [
    "reminder7pm()"
   ]
  },
  {
   "cell_type": "code",
   "execution_count": 120,
   "id": "6f8d1e73",
   "metadata": {},
   "outputs": [
    {
     "name": "stdout",
     "output_type": "stream",
     "text": [
      "Message sending to group ID:45\n",
      "Reminder from Hope AI Live Webinar\n",
      "Message sending to Aslam | aslamjoy@gmail.com | 971525268063\n",
      "Reminder from Hope AI Live Webinar\n",
      "Message sending to Azlina | azlinagift@gmail.com | 971525226745\n",
      "Reminder from Hope AI Live Webinar\n"
     ]
    }
   ],
   "source": [
    "class groupid():\n",
    "    groupID=45\n",
    "    message=\"Reminder from Hope AI Live Webinar\"\n",
    "    print(f\"Message sending to group ID:{groupID}\")\n",
    "    print(message)\n",
    "    def reminder7pm():\n",
    "        for rownumber in range(0,len(dataset)):\n",
    "            name=dataset.iloc[rownumber][0]\n",
    "            emailid=dataset.iloc[rownumber][1]\n",
    "            mobile=dataset.iloc[rownumber][2]\n",
    "            message=\"Reminder from Hope AI Live Webinar\"\n",
    "            print(f\"Message sending to {name} | {emailid} | {mobile}\")\n",
    "            print(message)\n",
    "groupid.reminder7pm()"
   ]
  },
  {
   "cell_type": "code",
   "execution_count": 146,
   "id": "a7ad6a7a",
   "metadata": {},
   "outputs": [
    {
     "name": "stdout",
     "output_type": "stream",
     "text": [
      "Message sending to group ID:45\n",
      "Reminder from Hope AI Live Webinar\n",
      "Message sending to Aslam | aslamjoy@gmail.com | 971525268063\n",
      "Reminder from Hope AI Live Webinar\n",
      "Message sending to Azlina | azlinagift@gmail.com | 971525226745\n",
      "Reminder from Hope AI Live Webinar\n",
      "Message sending to Azlifa | azlifagift@gmail.com | 97152999373\n",
      "Reminder from Hope AI Live Webinar\n"
     ]
    }
   ],
   "source": [
    "#Logic -2\n",
    "\n",
    "class GroupID:\n",
    "    groupID = 45\n",
    "    message = \"Reminder from Hope AI Live Webinar\"\n",
    "    print(f\"Message sending to group ID:{groupID}\")\n",
    "    print(message)\n",
    "    def reminder_7pm(dataset):\n",
    "        for index, row in dataset.iterrows():\n",
    "            name, emailid, mobile = row\n",
    "            print(f\"Message sending to {name} | {emailid} | {mobile}\")\n",
    "            print(GroupID.message)\n",
    "GroupID.reminder_7pm(dataset)"
   ]
  },
  {
   "cell_type": "code",
   "execution_count": null,
   "id": "1f09943e",
   "metadata": {
    "scrolled": true
   },
   "outputs": [],
   "source": []
  }
 ],
 "metadata": {
  "kernelspec": {
   "display_name": "Python 3 (ipykernel)",
   "language": "python",
   "name": "python3"
  },
  "language_info": {
   "codemirror_mode": {
    "name": "ipython",
    "version": 3
   },
   "file_extension": ".py",
   "mimetype": "text/x-python",
   "name": "python",
   "nbconvert_exporter": "python",
   "pygments_lexer": "ipython3",
   "version": "3.11.5"
  }
 },
 "nbformat": 4,
 "nbformat_minor": 5
}
